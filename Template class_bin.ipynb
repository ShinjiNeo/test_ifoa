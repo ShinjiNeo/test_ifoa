{
 "cells": [
  {
   "cell_type": "code",
   "execution_count": null,
   "id": "bfbf1ae7",
   "metadata": {},
   "outputs": [],
   "source": [
    "# Import the neccessary modules\n",
    "import pandas as pd\n",
    "import numpy as np\n",
    "import seaborn as sns\n",
    "import matplotlib.pyplot as plt\n",
    "\n",
    "import warnings\n",
    "warnings.filterwarnings('ignore')"
   ]
  },
  {
   "cell_type": "code",
   "execution_count": null,
   "metadata": {},
   "outputs": [],
   "source": [
    "path = 'https://frenzy86.s3.eu-west-2.amazonaws.com/fav/tecno/titanic.csv'\n",
    "\n",
    "df = pd.read_csv(path, sep='\\t')\n",
    "#df = pd.read_csv(path,)\n",
    "df"
   ]
  },
  {
   "cell_type": "code",
   "execution_count": null,
   "metadata": {},
   "outputs": [],
   "source": [
    "plt.figure(figsize=(7,5))\n",
    "sns.heatmap(df.isnull(),cbar=False)     #toglie barra colori"
   ]
  },
  {
   "cell_type": "code",
   "execution_count": null,
   "id": "69315fa7",
   "metadata": {},
   "outputs": [],
   "source": [
    "#operazioni da fare in EDA\n",
    "\n",
    "df.info()\n",
    "df.describe().T\n",
    "df['column_name'].value_counts()\n",
    "df['column_name'].value_counts(normalize=True)\n",
    "df.groupby('column_name').count()\n",
    "df.isnull().sum()\n",
    "df[\"column_orig\"] = df[\"column_changed\"]     #cambio nome colonna\n",
    "df[\"species\"].unique()\n",
    "df.dropna()              #droppare elementi che non servono\n"
   ]
  },
  {
   "cell_type": "code",
   "execution_count": null,
   "id": "d3bbed14",
   "metadata": {},
   "outputs": [],
   "source": [
    "# To replace missing values with interpolated values\n",
    "df['chosen_column_to_fill'] = df['chosen_column_to_fill'].interpolate()\n"
   ]
  },
  {
   "cell_type": "code",
   "execution_count": null,
   "id": "82bedcde",
   "metadata": {},
   "outputs": [],
   "source": [
    "df = df.drop(['Name', 'Ticket', 'Cabin','PassengerId'], axis=1)       #droppare colonne non necessarie\n",
    "df"
   ]
  },
  {
   "cell_type": "markdown",
   "id": "c9241ff0",
   "metadata": {},
   "source": [
    "VISUALIZZAZIONE"
   ]
  },
  {
   "cell_type": "code",
   "execution_count": null,
   "id": "6ea05318",
   "metadata": {},
   "outputs": [],
   "source": [
    "plt.figure(figsize=(10, 6))\n",
    "plt.title('inserire il titolo')\n",
    "sns.countplot(x='column_name', hue=\"column_name\", data=df)\n",
    "sns.countplot(x='selected_value',data=df,hue='selected_value')"
   ]
  },
  {
   "cell_type": "code",
   "execution_count": null,
   "id": "8d7c5fe6",
   "metadata": {},
   "outputs": [],
   "source": []
  },
  {
   "cell_type": "code",
   "execution_count": null,
   "id": "eadb61c4",
   "metadata": {},
   "outputs": [],
   "source": [
    "df =  pd.get_dummies(df, columns=['Embarked','Sex'],dtype=int, drop_first=True)\n",
    "df"
   ]
  },
  {
   "cell_type": "code",
   "execution_count": null,
   "id": "67beeefc",
   "metadata": {},
   "outputs": [],
   "source": [
    "# generate binary values using get_dummies\n",
    "bridge_df = pd.DataFrame(df, columns=['Bridge_Types'])\n",
    "dum_df = pd.get_dummies(bridge_df, columns=[\"Bridge_Types\"],dtype=int,drop_first=True)#, prefix=[\"Type_is\"] )\n",
    "dum_df"
   ]
  },
  {
   "cell_type": "code",
   "execution_count": null,
   "id": "cca4c6d2",
   "metadata": {},
   "outputs": [],
   "source": [
    "#definire features e target, ad esempio:\n",
    "\n",
    "X_ = df.iloc[:,0:-1]      #dati non notmalizzati\n",
    "y = df.iloc[:,-1]"
   ]
  },
  {
   "cell_type": "code",
   "execution_count": null,
   "id": "f7d102d8",
   "metadata": {},
   "outputs": [],
   "source": [
    "from sklearn.preprocessing import StandardScaler\n",
    "\n",
    "sc = StandardScaler()\n",
    "standardized_data = sc.fit_transform(X_)\n",
    "\n",
    "X = standardized_data"
   ]
  },
  {
   "cell_type": "code",
   "execution_count": null,
   "id": "bd535a16",
   "metadata": {},
   "outputs": [],
   "source": [
    "X.shape\n",
    "y.shape      #controllare X, y"
   ]
  },
  {
   "cell_type": "code",
   "execution_count": null,
   "id": "4d0816cb",
   "metadata": {},
   "outputs": [],
   "source": [
    "from sklearn.model_selection import train_test_split\n",
    "\n",
    "X_train, X_test, y_train, y_test = train_test_split(X,y,\n",
    "                                                    test_size=0.3,\n",
    "                                                    random_state=667,\n",
    "                                                    stratify=y\n",
    "                                                    )"
   ]
  },
  {
   "cell_type": "code",
   "execution_count": null,
   "id": "8c2e1e99",
   "metadata": {},
   "outputs": [],
   "source": [
    "X_test.shape"
   ]
  },
  {
   "cell_type": "code",
   "execution_count": null,
   "id": "23d0d3b9",
   "metadata": {},
   "outputs": [],
   "source": [
    "#EX 1:\n",
    "\n",
    "from sklearn.linear_model import LogisticRegression\n",
    "\n",
    "lr_clf = LogisticRegression(max_iter=1000)\n",
    "lr_clf.fit(X_train,y_train)\n",
    "lr_clf.score(X_test, y_test)"
   ]
  },
  {
   "cell_type": "code",
   "execution_count": null,
   "id": "2cd73421",
   "metadata": {},
   "outputs": [],
   "source": [
    "#EX 2:\n",
    "\n",
    "from sklearn.ensemble import RandomForestClassifier\n",
    "\n",
    "rf_clf = RandomForestClassifier(n_estimators=200)\n",
    "rf_clf.fit(X_train, y_train)\n",
    "rf_clf.score(X_test, y_test) # accuracy"
   ]
  },
  {
   "cell_type": "markdown",
   "id": "2c9fe10c",
   "metadata": {},
   "source": [
    "PROCEDIMENTO CON PIU' CLASSIFICATORI INSIEME"
   ]
  },
  {
   "cell_type": "code",
   "execution_count": null,
   "id": "5dc0dea0",
   "metadata": {},
   "outputs": [],
   "source": [
    "classifiers = [DecisionTreeClassifier(max_depth=4),\n",
    "               RandomForestClassifier(n_estimators=200,random_state=667),\n",
    "               GradientBoostingClassifier(),\n",
    "               GradientBoostingClassifier(n_estimators=50),\n",
    "               LogisticRegression(max_iter=1000),\n",
    "               GaussianNB(),\n",
    "               KNeighborsClassifier(n_neighbors=2),\n",
    "               SVC(probability=True,kernel='rbf'),\n",
    "               XGBClassifier()\n",
    "               ]"
   ]
  },
  {
   "cell_type": "code",
   "execution_count": null,
   "id": "7a75e981",
   "metadata": {},
   "outputs": [],
   "source": [
    "len(classifiers)"
   ]
  },
  {
   "cell_type": "code",
   "execution_count": null,
   "id": "d0ca2343",
   "metadata": {},
   "outputs": [],
   "source": [
    "X_train, X_test, y_train, y_test = train_test_split(X,y,\n",
    "                                                    test_size=0.3,\n",
    "                                                    random_state=667,\n",
    "                                                    )\n",
    "\n",
    "\n",
    "for cls in classifiers:\n",
    "    cls.fit(X_train, y_train)\n",
    "    cls.predict(X_test)"
   ]
  },
  {
   "cell_type": "code",
   "execution_count": null,
   "id": "440184bf",
   "metadata": {},
   "outputs": [],
   "source": [
    "from sklearn.metrics import ConfusionMatrixDisplay\n",
    "\n",
    "fig, axes = plt.subplots(nrows=3, ncols=3, figsize=(15,10))\n",
    "\n",
    "labels = ['morti','sopravv']\n",
    "for cls, ax in zip(classifiers, axes.flatten()):\n",
    "    ConfusionMatrixDisplay.from_estimator(cls,\n",
    "                                            X_test,\n",
    "                                            y_test,\n",
    "                                            ax=ax,\n",
    "                                            cmap='Blues',\n",
    "                                            display_labels=labels,\n",
    "                                            )\n",
    "    ax.title.set_text(type(cls).__name__)\n",
    "plt.tight_layout()"
   ]
  },
  {
   "cell_type": "code",
   "execution_count": null,
   "id": "36717ba6",
   "metadata": {},
   "outputs": [],
   "source": [
    "from sklearn.metrics import classification_report\n",
    "\n",
    "for cls, ax in zip(classifiers, axes.flatten()):\n",
    "    print(cls)\n",
    "    print(classification_report(y_test,cls.predict(X_test),target_names=labels))"
   ]
  },
  {
   "cell_type": "code",
   "execution_count": null,
   "id": "fd289a75",
   "metadata": {},
   "outputs": [],
   "source": [
    "from sklearn.metrics import RocCurveDisplay\n",
    "from sklearn.metrics import roc_auc_score\n",
    "\n",
    "# Train the models and record the results\n",
    "plt.figure(figsize=(8,7))\n",
    "ax = plt.gca()\n",
    "plt.plot([0,1],[0,1],'--b')\n",
    "\n",
    "for cls in classifiers:\n",
    "    model = cls.fit(X_train, y_train)\n",
    "    y_score =model.predict_proba(X_test)[:, 1]\n",
    "    auc_model = roc_auc_score(y_test,y_score)\n",
    "\n",
    "    RocCurveDisplay.from_estimator(model, X_test, y_test, label=f'{cls.__class__.__name__} (AUC = {auc_model:.2f})', ax=ax)\n",
    "    plt.title(\"Receiver Operating Characteristic (ROC) curves\")\n",
    "    plt.legend(loc=4)"
   ]
  },
  {
   "cell_type": "markdown",
   "id": "6d7bad15",
   "metadata": {},
   "source": [
    "SCEGLI MODELLO MIGLIORE"
   ]
  },
  {
   "cell_type": "code",
   "execution_count": null,
   "id": "89903d8d",
   "metadata": {},
   "outputs": [],
   "source": [
    "model_xcb = XGBClassifier()"
   ]
  },
  {
   "cell_type": "code",
   "execution_count": null,
   "id": "9483ce29",
   "metadata": {},
   "outputs": [],
   "source": [
    "model_xcb.fit(X_train, y_train)"
   ]
  },
  {
   "cell_type": "code",
   "execution_count": null,
   "id": "ca7fab62",
   "metadata": {},
   "outputs": [],
   "source": [
    "model_xcb.score(X_train, y_train)"
   ]
  },
  {
   "cell_type": "code",
   "execution_count": null,
   "id": "e4e99365",
   "metadata": {},
   "outputs": [],
   "source": [
    "model_xcb.score(X_test, y_test)"
   ]
  },
  {
   "cell_type": "code",
   "execution_count": null,
   "id": "aa845c84",
   "metadata": {},
   "outputs": [],
   "source": [
    "importance = model_xcb.feature_importances_"
   ]
  },
  {
   "cell_type": "markdown",
   "id": "76b5f32a",
   "metadata": {},
   "source": [
    "PIPELINE"
   ]
  },
  {
   "cell_type": "code",
   "execution_count": null,
   "id": "8f22e726",
   "metadata": {},
   "outputs": [],
   "source": [
    "from sklearn.pipeline import make_pipeline,Pipeline\n",
    "from sklearn.preprocessing import StandardScaler\n",
    "from sklearn.model_selection import cross_val_score\n",
    "from sklearn.compose import make_column_transformer\n",
    "from sklearn.impute import SimpleImputer\n",
    "from sklearn.preprocessing import KBinsDiscretizer,OneHotEncoder,StandardScaler,FunctionTransformer"
   ]
  },
  {
   "cell_type": "code",
   "execution_count": null,
   "id": "5fd83164",
   "metadata": {},
   "outputs": [],
   "source": [
    "## dividiamo automaticamente le features numeriche da quelle categoriche\n",
    "\n",
    "numerical_features = [x for x, dtype in zip(X.columns, X.dtypes) if dtype.kind in ['i','f'] ]\n",
    "categorical_features = [x for x, dtype in zip(X.columns, X.dtypes) if dtype.kind not in ['i','f']]\n",
    "\n",
    "print('Numerical : ' + str(numerical_features))\n",
    "print('Categorical : ' + str(categorical_features))"
   ]
  },
  {
   "cell_type": "code",
   "execution_count": null,
   "id": "e22aeeb9",
   "metadata": {},
   "outputs": [],
   "source": [
    "Preprocessor = make_column_transformer(\n",
    "                                        (make_pipeline(\n",
    "                                        SimpleImputer(strategy = 'median'),\n",
    "                                        KBinsDiscretizer(n_bins=3)), numerical_features),\n",
    "\n",
    "                                        (make_pipeline(\n",
    "                                        #FunctionTransformer(lambda x: np.where(x == 'n.d.', np.nan, x)),\n",
    "                                        SimpleImputer(strategy = 'constant', fill_value = 'missing'),\n",
    "                                        OneHotEncoder(categories = 'auto', handle_unknown = 'ignore',drop='first')), categorical_features)\n",
    "                                        )"
   ]
  },
  {
   "cell_type": "code",
   "execution_count": null,
   "id": "f4e421ef",
   "metadata": {},
   "outputs": [],
   "source": [
    "scaler = StandardScaler()\n",
    "\n",
    "classifier = RandomForestClassifier(bootstrap=True,\n",
    "                                    max_depth=80,\n",
    "                                    max_features=2,\n",
    "                                    min_samples_leaf=3,\n",
    "                                    min_samples_split=8,\n",
    "                                    n_estimators=100\n",
    "                                    )\n",
    "#classifier = LogistiRegression()"
   ]
  },
  {
   "cell_type": "code",
   "execution_count": null,
   "id": "de688210",
   "metadata": {},
   "outputs": [],
   "source": [
    "model_pipe = Pipeline([\n",
    "                       ('Preprocessing features', Preprocessor),\n",
    "                       ('Scaling and standadize data', scaler),\n",
    "                       ('Classifier', classifier)\n",
    "                      ])\n",
    "model_pipe"
   ]
  },
  {
   "cell_type": "code",
   "execution_count": null,
   "id": "f2add40c",
   "metadata": {},
   "outputs": [],
   "source": [
    "cross_val_score(pipe, X, y, cv=5, error_score='raise')"
   ]
  },
  {
   "cell_type": "code",
   "execution_count": null,
   "id": "d144e606",
   "metadata": {},
   "outputs": [],
   "source": [
    "model_pipe.fit(X, y)"
   ]
  },
  {
   "cell_type": "code",
   "execution_count": null,
   "id": "ead150c5",
   "metadata": {},
   "outputs": [],
   "source": [
    "import joblib\n",
    "\n",
    "joblib.dump(model_pipe, \"model_svc_iris.pkl\")"
   ]
  },
  {
   "cell_type": "code",
   "execution_count": null,
   "id": "7e6bd229",
   "metadata": {},
   "outputs": [],
   "source": [
    "import joblib\n",
    "\n",
    "model_pipe = joblib.load('model_svc_iris.pkl')\n",
    "print('Model loaded successfully')"
   ]
  }
 ],
 "metadata": {
  "kernelspec": {
   "display_name": "Python 3",
   "language": "python",
   "name": "python3"
  },
  "language_info": {
   "codemirror_mode": {
    "name": "ipython",
    "version": 3
   },
   "file_extension": ".py",
   "mimetype": "text/x-python",
   "name": "python",
   "nbconvert_exporter": "python",
   "pygments_lexer": "ipython3",
   "version": "3.11.9"
  }
 },
 "nbformat": 4,
 "nbformat_minor": 5
}
